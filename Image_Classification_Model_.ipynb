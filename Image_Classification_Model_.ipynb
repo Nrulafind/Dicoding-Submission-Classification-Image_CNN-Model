{
  "cells": [
    {
      "cell_type": "markdown",
      "metadata": {
        "id": "view-in-github",
        "colab_type": "text"
      },
      "source": [
        "<a href=\"https://colab.research.google.com/github/Nrulafind/Dicoding-Submission-Classification-Image_CNN-Model/blob/main/Image_Classification_Model_.ipynb\" target=\"_parent\"><img src=\"https://colab.research.google.com/assets/colab-badge.svg\" alt=\"Open In Colab\"/></a>"
      ]
    },
    {
      "cell_type": "code",
      "execution_count": null,
      "metadata": {
        "id": "m5YwUMeFclMX"
      },
      "outputs": [],
      "source": [
        "import os\n",
        "import tensorflow as tf\n",
        "from tensorflow.keras import layers, models\n",
        "from tensorflow.keras.preprocessing.image import ImageDataGenerator\n",
        "from tensorflow.keras.preprocessing import image\n",
        "import matplotlib.pyplot as plt\n",
        "import pandas as pd\n",
        "from sklearn.model_selection import train_test_split\n",
        "from sklearn.preprocessing import LabelEncoder\n",
        "from tensorflow.keras.utils import to_categorical\n",
        "import zipfile\n"
      ]
    },
    {
      "cell_type": "code",
      "execution_count": null,
      "metadata": {
        "colab": {
          "base_uri": "https://localhost:8080/"
        },
        "id": "98td9u4vyvUU",
        "outputId": "8e1501eb-aa8f-4b55-a24c-19226ad50848"
      },
      "outputs": [
        {
          "output_type": "stream",
          "name": "stdout",
          "text": [
            "Error during extraction: [Errno 5] Input/output error: '/content/drive/MyDrive/Local Project/Dicoding/Dicoding-Belajar Pengembangan Machine Learning/assignment_3_Image Classification Model Deployment/myntradataset/myntradataset/images/10000.jpg'\n",
            "['images', 'styles.csv']\n"
          ]
        }
      ],
      "source": [
        "# Extract zip file\n",
        "# with zipfile.ZipFile('/content/drive/MyDrive/Local Project/Dicoding/Dicoding-Belajar Pengembangan Machine Learning/assignment_3_Image Classification Model Deployment/images.zip', 'r') as zip_ref:\n",
        "#     zip_ref.extractall('/content/drive/MyDrive/Local Project/Dicoding/Dicoding-Machine learning untuk pemula/images_zip/')\n",
        "try:\n",
        "    with zipfile.ZipFile('/content/drive/MyDrive/Local Project/Dicoding/Dicoding-Belajar Pengembangan Machine Learning/assignment_3_Image Classification Model Deployment/myntradataset.zip', 'r') as zip_ref:\n",
        "        zip_ref.extractall('/content/drive/MyDrive/Local Project/Dicoding/Dicoding-Belajar Pengembangan Machine Learning/assignment_3_Image Classification Model Deployment/myntradataset/')\n",
        "    print(\"Extraction successful.\")\n",
        "except Exception as e:\n",
        "    print(f\"Error during extraction: {e}\")\n",
        "\n",
        "DATASET_PATH = '/content/drive/MyDrive/Local Project/Dicoding/Dicoding-Belajar Pengembangan Machine Learning/assignment_3_Image Classification Model Deployment/myntradataset//myntradataset/'\n",
        "print(os.listdir(DATASET_PATH))"
      ]
    },
    {
      "cell_type": "code",
      "execution_count": null,
      "metadata": {
        "colab": {
          "base_uri": "https://localhost:8080/"
        },
        "id": "l_sCOLBFclI2",
        "outputId": "8ad821c4-1695-47ac-df1b-baa9bfdd4eec"
      },
      "outputs": [
        {
          "output_type": "stream",
          "name": "stderr",
          "text": [
            "<ipython-input-5-258cf98e1d08>:1: FutureWarning: The error_bad_lines argument has been deprecated and will be removed in a future version. Use on_bad_lines in the future.\n",
            "\n",
            "\n",
            "  df = pd.read_csv(DATASET_PATH + \"styles.csv\", nrows=26000, error_bad_lines=False)\n",
            "Skipping line 6044: expected 10 fields, saw 11\n",
            "Skipping line 6569: expected 10 fields, saw 11\n",
            "Skipping line 7399: expected 10 fields, saw 11\n",
            "Skipping line 7939: expected 10 fields, saw 11\n",
            "Skipping line 9026: expected 10 fields, saw 11\n",
            "Skipping line 10264: expected 10 fields, saw 11\n",
            "Skipping line 10427: expected 10 fields, saw 11\n",
            "Skipping line 10905: expected 10 fields, saw 11\n",
            "Skipping line 11373: expected 10 fields, saw 11\n",
            "Skipping line 11945: expected 10 fields, saw 11\n",
            "Skipping line 14112: expected 10 fields, saw 11\n",
            "Skipping line 14532: expected 10 fields, saw 11\n",
            "Skipping line 15076: expected 10 fields, saw 12\n",
            "\n"
          ]
        },
        {
          "output_type": "stream",
          "name": "stdout",
          "text": [
            "<class 'pandas.core.frame.DataFrame'>\n",
            "RangeIndex: 26000 entries, 0 to 25999\n",
            "Data columns (total 11 columns):\n",
            " #   Column              Non-Null Count  Dtype  \n",
            "---  ------              --------------  -----  \n",
            " 0   id                  26000 non-null  int64  \n",
            " 1   gender              26000 non-null  object \n",
            " 2   masterCategory      26000 non-null  object \n",
            " 3   subCategory         26000 non-null  object \n",
            " 4   articleType         26000 non-null  object \n",
            " 5   baseColour          25990 non-null  object \n",
            " 6   season              25990 non-null  object \n",
            " 7   year                25999 non-null  float64\n",
            " 8   usage               25817 non-null  object \n",
            " 9   productDisplayName  25995 non-null  object \n",
            " 10  image               26000 non-null  object \n",
            "dtypes: float64(1), int64(1), object(9)\n",
            "memory usage: 2.2+ MB\n"
          ]
        }
      ],
      "source": [
        "df = pd.read_csv(DATASET_PATH + \"styles.csv\", nrows=26000, error_bad_lines=False)\n",
        "df['image'] = df.apply(lambda row: str(row['id']) + \".jpg\", axis=1)\n",
        "df = df.sample(frac=1).reset_index(drop=True)\n",
        "df.info()\n",
        "\n",
        "# Encode the 'masterCategory' column\n",
        "label_encoder = LabelEncoder()\n",
        "df['masterCategory'] = label_encoder.fit_transform(df['masterCategory']).astype(str)\n",
        "\n",
        "# Fungsi untuk memuat dataset\n",
        "def load_dataset():\n",
        "\n",
        "    train_datagen = ImageDataGenerator(rescale=1./255, validation_split=0.2)\n",
        "\n",
        "    # Use flow_from_dataframe to load images and labels from the DataFrame\n",
        "    train_generator = train_datagen.flow_from_dataframe(\n",
        "        dataframe=df,\n",
        "        directory=DATASET_PATH + \"images\",\n",
        "        x_col='image',\n",
        "        y_col='masterCategory',\n",
        "        target_size=(224, 224),\n",
        "        batch_size=32,\n",
        "        class_mode='categorical',\n",
        "        subset='training'\n",
        "    )\n",
        "\n",
        "    validation_generator = train_datagen.flow_from_dataframe(\n",
        "        dataframe=df,\n",
        "        directory=DATASET_PATH + \"images\",\n",
        "        x_col='image',\n",
        "        y_col='masterCategory',\n",
        "        target_size=(224, 224),\n",
        "        batch_size=32,\n",
        "        class_mode='categorical',\n",
        "        subset='validation'\n",
        "    )\n",
        "\n",
        "    # Print dataset information\n",
        "    print(df.head())\n",
        "    print(\"\")\n",
        "    print(\"Unique categories:\", label_encoder.classes_)\n",
        "    print(\"Image:\", df['image'])\n",
        "\n",
        "    print(\"Total training samples:\", len(train_generator.filenames))\n",
        "    print(\"Total validation samples:\", len(validation_generator.filenames))\n",
        "\n",
        "    return train_generator, validation_generator"
      ]
    },
    {
      "cell_type": "code",
      "execution_count": null,
      "metadata": {
        "id": "VBJmQP8NclHD"
      },
      "outputs": [],
      "source": [
        "\n",
        "# Fungsi untuk membuat model CNN\n",
        "def create_model():\n",
        "    model = models.Sequential()\n",
        "    model.add(layers.Conv2D(32, (3, 3), activation='relu', input_shape=(224, 224, 3)))\n",
        "    model.add(layers.MaxPooling2D((2, 2)))\n",
        "    model.add(layers.Conv2D(64, (3, 3), activation='relu'))\n",
        "    model.add(layers.MaxPooling2D((2, 2)))\n",
        "    model.add(layers.Flatten())\n",
        "    model.add(layers.Dense(64, activation='relu'))\n",
        "    #model.add(layers.Dense(1, activation='sigmoid'))\n",
        "    model.add(layers.Dense(7, activation='softmax'))\n",
        "\n",
        "    model.compile(optimizer='adam', loss='binary_crossentropy', metrics=['accuracy'])\n",
        "\n",
        "    return model"
      ]
    },
    {
      "cell_type": "code",
      "execution_count": null,
      "metadata": {
        "id": "PsxBvjwgclE0"
      },
      "outputs": [],
      "source": [
        "\n",
        "# Fungsi untuk membuat callback\n",
        "def create_callbacks():\n",
        "    # Tambah callback\n",
        "    callbacks = [\n",
        "        tf.keras.callbacks.EarlyStopping(monitor='val_accuracy', patience=5, restore_best_weights=True),\n",
        "    ]\n",
        "    return callbacks"
      ]
    },
    {
      "cell_type": "code",
      "execution_count": null,
      "metadata": {
        "id": "jMO6yJ14clCm"
      },
      "outputs": [],
      "source": [
        "def train_model(model, train_generator, validation_generator):\n",
        "    optimizer = tf.keras.optimizers.Adam(learning_rate=0.001)  # Adjust the learning rate\n",
        "    model.compile(optimizer=optimizer, loss='categorical_crossentropy', metrics=['accuracy'])\n",
        "\n",
        "    history = model.fit(\n",
        "        train_generator,\n",
        "        epochs=50,\n",
        "        validation_data=validation_generator,\n",
        "        callbacks=create_callbacks()\n",
        "    )\n",
        "    return history"
      ]
    },
    {
      "cell_type": "code",
      "execution_count": null,
      "metadata": {
        "id": "49zMPgbpclAm"
      },
      "outputs": [],
      "source": [
        "# Fungsi untuk membuat plot akurasi\n",
        "def plot_history(history):\n",
        "    plt.plot(history.history['accuracy'], label='accuracy')\n",
        "    plt.plot(history.history['val_accuracy'], label='val_accuracy')\n",
        "    plt.xlabel('Epoch')\n",
        "    plt.ylabel('Accuracy')\n",
        "    plt.legend()\n",
        "    plt.show()\n",
        "# Fungsi untuk membuat plot loss\n",
        "    plt.plot(history.history['loss'], label='loss')\n",
        "    plt.plot(history.history['val_loss'], label='val_loss')\n",
        "    plt.xlabel('Epoch')\n",
        "    plt.ylabel('Loss')\n",
        "    plt.legend()\n",
        "    plt.show()"
      ]
    },
    {
      "cell_type": "code",
      "execution_count": null,
      "metadata": {
        "id": "0P7JnA55ck7z"
      },
      "outputs": [],
      "source": [
        "# Fungsi untuk menyimpan model ke dalam format TF-Lite\n",
        "def save_model_to_tflite(model):\n",
        "    converter = tf.lite.TFLiteConverter.from_keras_model(model)\n",
        "    tflite_model = converter.convert()\n",
        "\n",
        "    with open('model.tflite', 'wb') as f:\n",
        "        f.write(tflite_model)"
      ]
    },
    {
      "cell_type": "code",
      "execution_count": null,
      "metadata": {
        "colab": {
          "base_uri": "https://localhost:8080/"
        },
        "id": "Y1nOX26Icku2",
        "outputId": "cff7312c-80a0-401e-de63-d06019c2c2e7"
      },
      "outputs": [
        {
          "output_type": "stream",
          "name": "stdout",
          "text": [
            "Found 20799 validated image filenames belonging to 7 classes.\n"
          ]
        },
        {
          "output_type": "stream",
          "name": "stderr",
          "text": [
            "/usr/local/lib/python3.10/dist-packages/keras/src/preprocessing/image.py:1137: UserWarning: Found 2 invalid image filename(s) in x_col=\"image\". These filename(s) will be ignored.\n",
            "  warnings.warn(\n"
          ]
        },
        {
          "output_type": "stream",
          "name": "stdout",
          "text": [
            "Found 5199 validated image filenames belonging to 7 classes.\n",
            "      id gender masterCategory subCategory   articleType baseColour  season  \\\n",
            "0  34353    Men              1     Topwear       Tshirts       Blue  Summer   \n",
            "1  47199    Men              2       Shoes  Formal Shoes      Brown  Summer   \n",
            "2  17238    Men              1     Topwear       Tshirts      Black    Fall   \n",
            "3   8981    Men              2       Shoes  Casual Shoes      White    Fall   \n",
            "4   5614    Men              2      Sandal       Sandals      Brown  Summer   \n",
            "\n",
            "     year   usage                            productDisplayName      image  \n",
            "0  2012.0  Casual          Myntra Men Blue Diet Extreme T-shirt  34353.jpg  \n",
            "1  2012.0  Formal      Franco Leone Men Dark Brown Formal Shoes  47199.jpg  \n",
            "2  2011.0  Casual  U.S. Polo Assn. Men Solid Black  Polo Tshirt  17238.jpg  \n",
            "3  2011.0  Casual    Puma Men Evo Ducati Mid White Casual Shoes   8981.jpg  \n",
            "4  2011.0  Casual               ADIDAS Men Henrio Brown Floater   5614.jpg  \n",
            "\n",
            "Unique categories: ['Accessories' 'Apparel' 'Footwear' 'Free Items' 'Home' 'Personal Care'\n",
            " 'Sporting Goods']\n",
            "Image: 0        34353.jpg\n",
            "1        47199.jpg\n",
            "2        17238.jpg\n",
            "3         8981.jpg\n",
            "4         5614.jpg\n",
            "           ...    \n",
            "25995    52960.jpg\n",
            "25996    27689.jpg\n",
            "25997    24194.jpg\n",
            "25998     3762.jpg\n",
            "25999    58334.jpg\n",
            "Name: image, Length: 26000, dtype: object\n",
            "Total training samples: 20799\n",
            "Total validation samples: 5199\n"
          ]
        },
        {
          "output_type": "stream",
          "name": "stderr",
          "text": [
            "/usr/local/lib/python3.10/dist-packages/keras/src/preprocessing/image.py:1137: UserWarning: Found 2 invalid image filename(s) in x_col=\"image\". These filename(s) will be ignored.\n",
            "  warnings.warn(\n"
          ]
        }
      ],
      "source": [
        "# Memuat dataset\n",
        "train_generator, validation_generator = load_dataset()"
      ]
    },
    {
      "cell_type": "code",
      "execution_count": null,
      "metadata": {
        "id": "gaEuC00FrNpq"
      },
      "outputs": [],
      "source": [
        "# Membuat model\n",
        "model = create_model()\n"
      ]
    },
    {
      "cell_type": "code",
      "execution_count": null,
      "metadata": {
        "colab": {
          "base_uri": "https://localhost:8080/"
        },
        "id": "lvPSQKGOrNmj",
        "outputId": "7aec8aef-b293-4899-a09d-341e8b5b7f31"
      },
      "outputs": [
        {
          "output_type": "stream",
          "name": "stdout",
          "text": [
            "Epoch 1/50\n",
            "650/650 [==============================] - 8008s 12s/step - loss: 0.3172 - accuracy: 0.9148 - val_loss: 0.2044 - val_accuracy: 0.9410\n",
            "Epoch 2/50\n",
            "650/650 [==============================] - 72s 111ms/step - loss: 0.1309 - accuracy: 0.9608 - val_loss: 0.2227 - val_accuracy: 0.9340\n",
            "Epoch 3/50\n",
            "650/650 [==============================] - 69s 106ms/step - loss: 0.0899 - accuracy: 0.9723 - val_loss: 0.2185 - val_accuracy: 0.9410\n",
            "Epoch 4/50\n",
            "650/650 [==============================] - 70s 107ms/step - loss: 0.0805 - accuracy: 0.9745 - val_loss: 0.2397 - val_accuracy: 0.9575\n",
            "Epoch 5/50\n",
            "650/650 [==============================] - 68s 105ms/step - loss: 0.0348 - accuracy: 0.9896 - val_loss: 0.2417 - val_accuracy: 0.9646\n",
            "Epoch 6/50\n",
            "650/650 [==============================] - 72s 110ms/step - loss: 0.0194 - accuracy: 0.9940 - val_loss: 0.2460 - val_accuracy: 0.9615\n",
            "Epoch 7/50\n",
            "650/650 [==============================] - 71s 110ms/step - loss: 0.0302 - accuracy: 0.9917 - val_loss: 0.2758 - val_accuracy: 0.9648\n",
            "Epoch 8/50\n",
            "650/650 [==============================] - 72s 112ms/step - loss: 0.0245 - accuracy: 0.9924 - val_loss: 0.3054 - val_accuracy: 0.9623\n",
            "Epoch 9/50\n",
            "650/650 [==============================] - 70s 107ms/step - loss: 0.0170 - accuracy: 0.9953 - val_loss: 0.2940 - val_accuracy: 0.9635\n",
            "Epoch 10/50\n",
            "650/650 [==============================] - 71s 110ms/step - loss: 0.0134 - accuracy: 0.9969 - val_loss: 0.3036 - val_accuracy: 0.9640\n",
            "Epoch 11/50\n",
            "650/650 [==============================] - 70s 107ms/step - loss: 0.0519 - accuracy: 0.9842 - val_loss: 0.3247 - val_accuracy: 0.9621\n",
            "Epoch 12/50\n",
            "650/650 [==============================] - 73s 113ms/step - loss: 0.0127 - accuracy: 0.9966 - val_loss: 0.4541 - val_accuracy: 0.9627\n"
          ]
        }
      ],
      "source": [
        "# Melatih model\n",
        "history = train_model(model, train_generator, validation_generator)\n"
      ]
    },
    {
      "cell_type": "code",
      "source": [
        "# Membuat plot akurasi dan loss\n",
        "plot_history(history)"
      ],
      "metadata": {
        "colab": {
          "base_uri": "https://localhost:8080/",
          "height": 883
        },
        "id": "SvVznaUEHnwe",
        "outputId": "7e447623-1908-47ed-a0cc-2a5d7d0a178a"
      },
      "execution_count": null,
      "outputs": [
        {
          "output_type": "display_data",
          "data": {
            "text/plain": [
              "<Figure size 640x480 with 1 Axes>"
            ],
            "image/png": "[encoded data removed]"
          },
          "metadata": {}
        },
        {
          "output_type": "display_data",
          "data": {
            "text/plain": [
              "<Figure size 640x480 with 1 Axes>"
            ],
            "image/png": "[encoded data removed]"
          },
          "metadata": {}
        }
      ]
    },
    {
      "cell_type": "code",
      "execution_count": null,
      "metadata": {
        "id": "ORZYuBbtrXJe"
      },
      "outputs": [],
      "source": [
        "# Menyimpan model ke dalam format TF-Lite\n",
        "save_model_to_tflite(model)"
      ]
    }
  ],
  "metadata": {
    "colab": {
      "provenance": [],
      "mount_file_id": "1Lk9aoGMcA7oW2Bf07DpIuw99jKqi3HeA",
      "authorship_tag": "ABX9TyMeXiK+ODpQaYNsUbmCPaSL",
      "include_colab_link": true
    },
    "kernelspec": {
      "display_name": "Python 3",
      "name": "python3"
    },
    "language_info": {
      "name": "python"
    }
  },
  "nbformat": 4,
  "nbformat_minor": 0
}